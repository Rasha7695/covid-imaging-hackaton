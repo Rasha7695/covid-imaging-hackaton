{
  "cells": [
    {
      "cell_type": "markdown",
      "metadata": {
        "id": "view-in-github",
        "colab_type": "text"
      },
      "source": [
        "<a href=\"https://colab.research.google.com/github/chocobearz/covid-imaging-hackaton/blob/master/Removing_duplicates_survival.ipynb\" target=\"_parent\"><img src=\"https://colab.research.google.com/assets/colab-badge.svg\" alt=\"Open In Colab\"/></a>"
      ]
    },
    {
      "cell_type": "code",
      "metadata": {
        "id": "itGIb34sleD7",
        "colab_type": "code",
        "colab": {}
      },
      "source": [
        "import pandas as pd\n",
        "metadata = pd.read_csv('https://raw.githubusercontent.com/chocobearz/covid-imaging-hackaton/master/metadata.csv')"
      ],
      "execution_count": 155,
      "outputs": []
    },
    {
      "cell_type": "code",
      "metadata": {
        "id": "TxenzktFp0DH",
        "colab_type": "code",
        "colab": {
          "base_uri": "https://localhost:8080/",
          "height": 34
        },
        "outputId": "b506dc9f-d42b-4509-bfc2-bd4e7b4ca49a"
      },
      "source": [
        "metadata['patientid'].nunique()"
      ],
      "execution_count": 156,
      "outputs": [
        {
          "output_type": "execute_result",
          "data": {
            "text/plain": "387"
          },
          "metadata": {},
          "execution_count": 156
        }
      ]
    },
    {
      "cell_type": "code",
      "metadata": {
        "id": "pbwVCKdgrCg8",
        "colab_type": "code",
        "colab": {
          "base_uri": "https://localhost:8080/",
          "height": 1000
        },
        "outputId": "1e721d6e-cad5-4674-bb29-9031db331940",
        "tags": []
      },
      "source": [
        "unique_metadata = metadata.drop_duplicates(subset=\"patientid\", keep=\"last\")\n",
        "print(unique_metadata.shape)\n",
        "#df1s"
      ],
      "execution_count": 158,
      "outputs": [
        {
          "output_type": "stream",
          "name": "stdout",
          "text": "(387, 29)\n"
        }
      ]
    },
    {
      "cell_type": "code",
      "execution_count": 159,
      "metadata": {
        "tags": []
      },
      "outputs": [
        {
          "output_type": "stream",
          "name": "stdout",
          "text": "(284, 29)\n"
        }
      ],
      "source": [
        "is_covid = unique_metadata['finding']=='COVID-19'\n",
        "only_covid_metadata = unique_metadata[is_covid]\n",
        "print(only_covid_metadata.shape)\n",
        "#print(df1s['finding'])\n",
        "#print(df1s)"
      ]
    },
    {
      "cell_type": "code",
      "metadata": {
        "id": "irnyT0OcrN8w",
        "colab_type": "code",
        "colab": {
          "base_uri": "https://localhost:8080/",
          "height": 68
        },
        "outputId": "25467d93-0401-4539-9344-54e528ccbd7b",
        "tags": []
      },
      "source": [
        "print(only_covid_metadata['sex'].count())\n",
        "print(only_covid_metadata['age'].count())\n",
        "print(only_covid_metadata['finding'].count())\n",
        "print(only_covid_metadata['survival'].count())"
      ],
      "execution_count": 160,
      "outputs": [
        {
          "output_type": "stream",
          "name": "stdout",
          "text": "251\n206\n284\n77\n"
        }
      ]
    },
    {
      "cell_type": "code",
      "execution_count": 162,
      "metadata": {
        "tags": []
      },
      "outputs": [
        {
          "output_type": "stream",
          "name": "stdout",
          "text": "(77, 29)\n"
        }
      ],
      "source": [
        "measured = [\"Y\",\"N\"]\n",
        "no_NA_metadata = only_covid_metadata[only_covid_metadata.survival.isin(measured)]\n",
        "print(no_NA_metadata.shape)\n",
        "#print(df1s['survival'])\n",
        "#print(df1s)"
      ]
    },
    {
      "cell_type": "code",
      "execution_count": 170,
      "metadata": {
        "tags": []
      },
      "outputs": [],
      "source": [
        "good_cols = no_NA_metadata[['sex', 'age', 'survival', 'intubated', 'location', 'temperature', 'pO2_saturation', 'leukocyte_count', 'neutrophil_count', 'lymphocyte_count']]\n",
        "#print(good_cols.shape)"
      ]
    },
    {
      "cell_type": "code",
      "execution_count": 171,
      "metadata": {},
      "outputs": [],
      "source": [
        "dummysex = pd.get_dummies(good_cols['sex'])\n",
        "dummysurvival = pd.get_dummies(good_cols['survival'])\n",
        "dummyintubated = pd.get_dummies(good_cols['intubated'])\n",
        "dummylocation = pd.get_dummies(good_cols['location'])"
      ]
    },
    {
      "cell_type": "code",
      "execution_count": 176,
      "metadata": {
        "tags": []
      },
      "outputs": [
        {
          "output_type": "stream",
          "name": "stdout",
          "text": "Brescia, Italy  Centro M?dico Imbanaco, Cali, Valle del Cauca, Colombia  \\\n3                 0                                                  0         \n20                0                                                  0         \n21                0                                                  0         \n28                0                                                  0         \n33                0                                                  0         \n..              ...                                                ...         \n633               0                                                  0         \n650               0                                                  0         \n655               0                                                  0         \n656               0                                                  0         \n657               0                                                  0         \n\n     Chicago, USA  China  Cho Ray Hospital, Ho Chi Minh City, Vietnam  \\\n3               0      0                                            1   \n20              0      0                                            0   \n21              0      0                                            0   \n28              0      0                                            0   \n33              0      0                                            0   \n..            ...    ...                                          ...   \n633             0      0                                            0   \n650             0      0                                            0   \n655             0      0                                            0   \n656             0      0                                            0   \n657             0      0                                            0   \n\n     Essen, Germany  Hannover Medical School, Hannover, Germany  \\\n3                 0                                           0   \n20                0                                           0   \n21                0                                           0   \n28                0                                           0   \n33                0                                           0   \n..              ...                                         ...   \n633               0                                           0   \n650               0                                           0   \n655               0                                           0   \n656               0                                           0   \n657               0                                           0   \n\n     Hospital Hollabrunn, Hollabrunn, Austria  \\\n3                                           0   \n20                                          0   \n21                                          0   \n28                                          0   \n33                                          0   \n..                                        ...   \n633                                         0   \n650                                         0   \n655                                         0   \n656                                         0   \n657                                         0   \n\n     Hospital Universitario, Madrid, Spain  \\\n3                                        0   \n20                                       0   \n21                                       0   \n28                                       0   \n33                                       0   \n..                                     ...   \n633                                      0   \n650                                      0   \n655                                      0   \n656                                      0   \n657                                      0   \n\n     Hospital of Wuhan University, Wuhan, China  ...  \\\n3                                             0  ...   \n20                                            0  ...   \n21                                            0  ...   \n28                                            0  ...   \n33                                            0  ...   \n..                                          ...  ...   \n633                                           0  ...   \n650                                           0  ...   \n655                                           0  ...   \n656                                           0  ...   \n657                                           0  ...   \n\n     Sunnybrook Health Sciences Centre, Toronto, Ontario, Canada  \\\n3                                                    0             \n20                                                   1             \n21                                                   0             \n28                                                   0             \n33                                                   0             \n..                                                 ...             \n633                                                  0             \n650                                                  0             \n655                                                  0             \n656                                                  0             \n657                                                  0             \n\n     Taichung, Taiwan  Taiwan  Taoyuan General Hospital, Taoyuan, Taiwan  \\\n3                   0       0                                          0   \n20                  0       0                                          0   \n21                  0       0                                          0   \n28                  0       0                                          0   \n33                  0       0                                          0   \n..                ...     ...                                        ...   \n633                 0       0                                          0   \n650                 0       0                                          0   \n655                 0       0                                          0   \n656                 0       0                                          0   \n657                 0       0                                          0   \n\n     Thailand  Thanh H�a, Vietnam  \\\n3           0                   0   \n20          0                   0   \n21          0                   0   \n28          0                   0   \n33          0                   0   \n..        ...                 ...   \n633         0                   0   \n650         0                   0   \n655         0                   0   \n656         0                   0   \n657         0                   0   \n\n     The Royal Melbourne Hospital, Melbourne, Australia  \\\n3                                                    0    \n20                                                   0    \n21                                                   0    \n28                                                   0    \n33                                                   0    \n..                                                 ...    \n633                                                  0    \n650                                                  0    \n655                                                  0    \n656                                                  0    \n657                                                  0    \n\n     Tongji Medical College, Wuhan, Hubei Province, China  Valencia, Spain  \\\n3                                                    0                   0   \n20                                                   0                   0   \n21                                                   1                   0   \n28                                                   0                   0   \n33                                                   0                   0   \n..                                                 ...                 ...   \n633                                                  0                   0   \n650                                                  0                   0   \n655                                                  0                   0   \n656                                                  0                   0   \n657                                                  0                   0   \n\n     Wuhan, China  \n3               0  \n20              0  \n21              0  \n28              0  \n33              0  \n..            ...  \n633             0  \n650             0  \n655             0  \n656             0  \n657             0  \n\n[77 rows x 35 columns]\n"
        }
      ],
      "source": [
        "#print(dummysex)\n",
        "#print(dummysurvival)\n",
        "#print(dummyintubated)\n",
        "#print(dummylocation)"
      ]
    },
    {
      "cell_type": "code",
      "execution_count": 181,
      "metadata": {
        "tags": []
      },
      "outputs": [],
      "source": [
        "final_clean = pd.concat([good_cols, dummysex,dummyintubated,dummylocation,dummysurvival], axis = 1)"
      ]
    },
    {
      "cell_type": "code",
      "execution_count": 183,
      "metadata": {},
      "outputs": [],
      "source": [
        "final_clean.to_csv('clean_metadata.csv') "
      ]
    },
    {
      "cell_type": "code",
      "execution_count": null,
      "metadata": {},
      "outputs": [],
      "source": []
    }
  ],
  "metadata": {
    "colab": {
      "name": "Untitled2.ipynb",
      "provenance": [],
      "collapsed_sections": [],
      "authorship_tag": "ABX9TyMdHuIlF1pYJcgU7FvGSDIh",
      "include_colab_link": true
    },
    "kernelspec": {
      "name": "python3",
      "display_name": "Python 3"
    }
  },
  "nbformat": 4,
  "nbformat_minor": 0
}